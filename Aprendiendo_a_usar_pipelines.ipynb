{
  "nbformat": 4,
  "nbformat_minor": 0,
  "metadata": {
    "colab": {
      "name": "Aprendiendo a usar pipelines.ipynb",
      "provenance": [],
      "authorship_tag": "ABX9TyPESFrVz5bwVNgilqqOIiov",
      "include_colab_link": true
    },
    "kernelspec": {
      "name": "python3",
      "display_name": "Python 3"
    }
  },
  "cells": [
    {
      "cell_type": "markdown",
      "metadata": {
        "id": "view-in-github",
        "colab_type": "text"
      },
      "source": [
        "<a href=\"https://colab.research.google.com/github/ruizleandro/Usando-Pipelines/blob/master/Aprendiendo_a_usar_pipelines.ipynb\" target=\"_parent\"><img src=\"https://colab.research.google.com/assets/colab-badge.svg\" alt=\"Open In Colab\"/></a>"
      ]
    },
    {
      "cell_type": "markdown",
      "metadata": {
        "id": "i74yHKeLaB3p",
        "colab_type": "text"
      },
      "source": [
        "# Usando pipelines con Grid Search"
      ]
    },
    {
      "cell_type": "code",
      "metadata": {
        "id": "1IpB4UhUZg9S",
        "colab_type": "code",
        "colab": {
          "base_uri": "https://localhost:8080/",
          "height": 67
        },
        "outputId": "286d0399-7589-4adc-e1a9-76ee08b72540"
      },
      "source": [
        "from sklearn.model_selection import train_test_split\n",
        "from sklearn.datasets import load_breast_cancer\n",
        "\n",
        "cancer = load_breast_cancer()\n",
        "X_train, X_test, y_train, y_test = train_test_split(\n",
        "    cancer.data, cancer.target, random_state=0)\n",
        "\n",
        "from sklearn.pipeline import Pipeline\n",
        "from sklearn.preprocessing import MinMaxScaler\n",
        "from sklearn.svm import SVC\n",
        "pipe = Pipeline([('scaler', MinMaxScaler()), ('svm', SVC())])\n",
        "pipe.fit(X_train, y_train)\n",
        "\n",
        "from sklearn.model_selection import GridSearchCV\n",
        "\n",
        "param_grid = {'C':[0.001, 0.01, 0.1, 1, 10, 100],\n",
        "              'gamma':[0.001, 0.01, 0.1, 1, 10, 100]}\n",
        "grid = GridSearchCV(SVC(), param_grid=param_grid, cv=5)\n",
        "grid.fit(X_train, y_train)\n",
        "\n",
        "print(\"Best cross-validation accuracy: {:.2f}\".format(grid.best_score_))\n",
        "print(\"Test set score: {:.2f}\".format(grid.score(X_test, y_test)))\n",
        "print(\"Best parameters: \", grid.best_params_)"
      ],
      "execution_count": 2,
      "outputs": [
        {
          "output_type": "stream",
          "text": [
            "Best cross-validation accuracy: 0.92\n",
            "Test set score: 0.93\n",
            "Best parameters:  {'C': 1, 'gamma': 0.001}\n"
          ],
          "name": "stdout"
        }
      ]
    },
    {
      "cell_type": "markdown",
      "metadata": {
        "id": "aj81jdAuZ4Mc",
        "colab_type": "text"
      },
      "source": [
        "# Una mejor forma de hacer pipelines"
      ]
    },
    {
      "cell_type": "code",
      "metadata": {
        "id": "GTldn_FaaIyn",
        "colab_type": "code",
        "colab": {}
      },
      "source": [
        "from sklearn.pipeline import make_pipeline\n",
        "# sintaxis estandar\n",
        "pipe_long = Pipeline([(\"scaler\", MinMaxScaler()), (\"svm\", SVC(C=100))])\n",
        "# sintaxis abreviada\n",
        "pipe_short = make_pipeline(MinMaxScaler(), SVC(C=100))"
      ],
      "execution_count": 3,
      "outputs": []
    },
    {
      "cell_type": "markdown",
      "metadata": {
        "id": "PRtY9x2_aKi_",
        "colab_type": "text"
      },
      "source": [
        "# Accediendo a los atributos"
      ]
    },
    {
      "cell_type": "code",
      "metadata": {
        "id": "1UC6o1PoaLAw",
        "colab_type": "code",
        "colab": {
          "base_uri": "https://localhost:8080/",
          "height": 84
        },
        "outputId": "ac272747-9da9-450c-cc66-f4fe2bff2a64"
      },
      "source": [
        "from sklearn.preprocessing import StandardScaler\n",
        "from sklearn.decomposition import PCA\n",
        "\n",
        "pipe = make_pipeline(StandardScaler(), PCA(n_components=2), StandardScaler())\n",
        "print(\"Pipeline steps:\\n{}\".format(pipe.steps))\n",
        "\n",
        "pipe.fit(cancer.data)\n",
        "# extrae los primeros dos componentes principales del paso de \"pca\"\n",
        "components = pipe.named_steps['pca'].components_\n",
        "\n",
        "print(\"components.shape: {}\".format(components.shape))"
      ],
      "execution_count": 4,
      "outputs": [
        {
          "output_type": "stream",
          "text": [
            "Pipeline steps:\n",
            "[('standardscaler-1', StandardScaler(copy=True, with_mean=True, with_std=True)), ('pca', PCA(copy=True, iterated_power='auto', n_components=2, random_state=None,\n",
            "    svd_solver='auto', tol=0.0, whiten=False)), ('standardscaler-2', StandardScaler(copy=True, with_mean=True, with_std=True))]\n",
            "components.shape: (2, 30)\n"
          ],
          "name": "stdout"
        }
      ]
    },
    {
      "cell_type": "code",
      "metadata": {
        "id": "JSIr0JXmaQVi",
        "colab_type": "code",
        "colab": {
          "base_uri": "https://localhost:8080/",
          "height": 370
        },
        "outputId": "b357f356-8c4b-4a5d-9350-de8513591834"
      },
      "source": [
        "from sklearn.linear_model import LogisticRegression\n",
        "\n",
        "pipe = make_pipeline(StandardScaler(), LogisticRegression(max_iter=1000))\n",
        "\n",
        "param_grid = {'logisticregression__C': [0.01, 0.1, 1, 10, 100]}\n",
        "\n",
        "X_train, X_test, y_train, y_test = train_test_split(cancer.data, cancer.target, random_state=4)\n",
        "\n",
        "grid = GridSearchCV(pipe, param_grid, cv=5)\n",
        "grid.fit(X_train, y_train)\n",
        "\n",
        "print('Best estimator:\\n{}'.format(grid.best_estimator_))\n",
        "print(\"Logistic regression step:\\n\".format(grid.best_estimator_.named_steps['logisticregression']))\n",
        "print(\"Logistic regression coefficients:\\n{}\".format(grid.best_estimator_.named_steps['logisticregression'].coef_)) "
      ],
      "execution_count": 7,
      "outputs": [
        {
          "output_type": "stream",
          "text": [
            "Best estimator:\n",
            "Pipeline(memory=None,\n",
            "         steps=[('standardscaler',\n",
            "                 StandardScaler(copy=True, with_mean=True, with_std=True)),\n",
            "                ('logisticregression',\n",
            "                 LogisticRegression(C=1, class_weight=None, dual=False,\n",
            "                                    fit_intercept=True, intercept_scaling=1,\n",
            "                                    l1_ratio=None, max_iter=1000,\n",
            "                                    multi_class='auto', n_jobs=None,\n",
            "                                    penalty='l2', random_state=None,\n",
            "                                    solver='lbfgs', tol=0.0001, verbose=0,\n",
            "                                    warm_start=False))],\n",
            "         verbose=False)\n",
            "Logistic regression step:\n",
            "\n",
            "Logistic regression coefficients:\n",
            "[[-0.43570655 -0.34266946 -0.40809443 -0.5344574  -0.14971847  0.61034122\n",
            "  -0.72634347 -0.78538827  0.03886087  0.27497198 -1.29780109  0.04926005\n",
            "  -0.67336941 -0.93447426 -0.13939555  0.45032641 -0.13009864 -0.10144273\n",
            "   0.43432027  0.71596578 -1.09068862 -1.09463976 -0.85183755 -1.06406198\n",
            "  -0.74316099  0.07252425 -0.82323903 -0.65321239 -0.64379499 -0.42026013]]\n"
          ],
          "name": "stdout"
        }
      ]
    },
    {
      "cell_type": "markdown",
      "metadata": {
        "id": "BtEL-YQDa7oc",
        "colab_type": "text"
      },
      "source": [
        "# Obteniendo pasos de pre-procesamiento con Grid-Search"
      ]
    },
    {
      "cell_type": "code",
      "metadata": {
        "id": "UzSaYxB4a9q2",
        "colab_type": "code",
        "colab": {
          "base_uri": "https://localhost:8080/",
          "height": 403
        },
        "outputId": "fc93e8f4-dccf-474a-d12d-bb0979f33366"
      },
      "source": [
        "from sklearn.datasets import load_boston\n",
        "from sklearn.linear_model import Ridge\n",
        "\n",
        "boston = load_boston()\n",
        "X_train, X_test, y_train, y_test = train_test_split(\n",
        "    boston.data, boston.target, random_state=0)\n",
        "\n",
        "from sklearn.preprocessing import PolynomialFeatures\n",
        "pipe = make_pipeline(StandardScaler(), PolynomialFeatures(), Ridge())\n",
        "\n",
        "param_grid = {'polynomialfeatures__degree': [1, 2, 3],\n",
        "              'ridge__alpha': [0.001, 0.01, 0.1, 1, 10, 100]}\n",
        "\n",
        "grid = GridSearchCV(pipe, param_grid=param_grid, cv=5, n_jobs=-1)\n",
        "grid.fit(X_train, y_train)"
      ],
      "execution_count": 11,
      "outputs": [
        {
          "output_type": "execute_result",
          "data": {
            "text/plain": [
              "GridSearchCV(cv=5, error_score=nan,\n",
              "             estimator=Pipeline(memory=None,\n",
              "                                steps=[('standardscaler',\n",
              "                                        StandardScaler(copy=True,\n",
              "                                                       with_mean=True,\n",
              "                                                       with_std=True)),\n",
              "                                       ('polynomialfeatures',\n",
              "                                        PolynomialFeatures(degree=2,\n",
              "                                                           include_bias=True,\n",
              "                                                           interaction_only=False,\n",
              "                                                           order='C')),\n",
              "                                       ('ridge',\n",
              "                                        Ridge(alpha=1.0, copy_X=True,\n",
              "                                              fit_intercept=True, max_iter=None,\n",
              "                                              normalize=False,\n",
              "                                              random_state=None, solver='auto',\n",
              "                                              tol=0.001))],\n",
              "                                verbose=False),\n",
              "             iid='deprecated', n_jobs=-1,\n",
              "             param_grid={'polynomialfeatures__degree': [1, 2, 3],\n",
              "                         'ridge__alpha': [0.001, 0.01, 0.1, 1, 10, 100]},\n",
              "             pre_dispatch='2*n_jobs', refit=True, return_train_score=False,\n",
              "             scoring=None, verbose=0)"
            ]
          },
          "metadata": {
            "tags": []
          },
          "execution_count": 11
        }
      ]
    },
    {
      "cell_type": "code",
      "metadata": {
        "id": "hCUJ_U-2bTvX",
        "colab_type": "code",
        "colab": {
          "base_uri": "https://localhost:8080/",
          "height": 277
        },
        "outputId": "bb66b68c-c938-477c-e9ba-3e535b346bd8"
      },
      "source": [
        "import matplotlib.pyplot as plt\n",
        "\n",
        "plt.matshow(grid.cv_results_['mean_test_score'].reshape(3, -1),\n",
        "            vmin=0, cmap='viridis')\n",
        "plt.xlabel(\"ridge__alpha\")\n",
        "plt.ylabel(\"polynomialfeatures__degree\")\n",
        "plt.xticks(range(len(param_grid['ridge__alpha'])), param_grid['ridge__alpha'])\n",
        "plt.yticks(range(len(param_grid['polynomialfeatures__degree'])),\n",
        "           param_grid['polynomialfeatures__degree'])\n",
        "plt.colorbar()"
      ],
      "execution_count": 13,
      "outputs": [
        {
          "output_type": "execute_result",
          "data": {
            "text/plain": [
              "<matplotlib.colorbar.Colorbar at 0x7f655073fa58>"
            ]
          },
          "metadata": {
            "tags": []
          },
          "execution_count": 13
        },
        {
          "output_type": "display_data",
          "data": {
            "image/png": "[encoded data removed]",
            "text/plain": [
              "<Figure size 576x288 with 2 Axes>"
            ]
          },
          "metadata": {
            "tags": [],
            "needs_background": "light"
          }
        }
      ]
    },
    {
      "cell_type": "markdown",
      "metadata": {
        "id": "2cTyDqtQbb1u",
        "colab_type": "text"
      },
      "source": [
        "# Usando Grid-Search para saber que modelo usar"
      ]
    },
    {
      "cell_type": "code",
      "metadata": {
        "id": "0vPfHXRGbhm8",
        "colab_type": "code",
        "colab": {}
      },
      "source": [
        "pipe = Pipeline([('preprocessing', StandardScaler()), ('classifier', SVC())])\n",
        "\n",
        "from sklearn.ensemble import RandomForestClassifier\n",
        "\n",
        "param_grid = [\n",
        "              {'classifier': [SVC()], 'preprocessing': [StandardScaler(), None],\n",
        "               'classifier__gamma': [0.001, 0.01, 0.1, 1, 10, 100],\n",
        "               'classifier__C': [0.001, 0.01, 0.1, 1, 10, 100]},\n",
        "              {'classifier': [RandomForestClassifier (n_estimators=100)],\n",
        "               'preprocessing': [None], 'classifier__max_features': [1, 2, 3]}]"
      ],
      "execution_count": 15,
      "outputs": []
    },
    {
      "cell_type": "code",
      "metadata": {
        "id": "pfi8iTPTbvSO",
        "colab_type": "code",
        "colab": {
          "base_uri": "https://localhost:8080/",
          "height": 151
        },
        "outputId": "b48bb606-2491-4605-95a4-40f7ad3553af"
      },
      "source": [
        "X_train, X_test, y_train, y_test = train_test_split(\n",
        "    cancer.data, cancer.target, random_state=0)\n",
        "\n",
        "grid = GridSearchCV(pipe, param_grid, cv=5)\n",
        "grid.fit(X_train, y_train)\n",
        "\n",
        "print(\"Best params:\\n{}\\n\".format(grid.best_params_))\n",
        "print(\"Best cross-validation score: {:.2f}\".format(grid.best_score_))\n",
        "print(\"Test-set score: {:.2f}\".format(grid.score(X_test, y_test)))"
      ],
      "execution_count": 16,
      "outputs": [
        {
          "output_type": "stream",
          "text": [
            "Best params:\n",
            "{'classifier': SVC(C=10, break_ties=False, cache_size=200, class_weight=None, coef0=0.0,\n",
            "    decision_function_shape='ovr', degree=3, gamma=0.01, kernel='rbf',\n",
            "    max_iter=-1, probability=False, random_state=None, shrinking=True,\n",
            "    tol=0.001, verbose=False), 'classifier__C': 10, 'classifier__gamma': 0.01, 'preprocessing': StandardScaler(copy=True, with_mean=True, with_std=True)}\n",
            "\n",
            "Best cross-validation score: 0.99\n",
            "Test-set score: 0.98\n"
          ],
          "name": "stdout"
        }
      ]
    }
  ]
}